{
  "nbformat": 4,
  "nbformat_minor": 0,
  "metadata": {
    "colab": {
      "name": "test.ipynb",
      "provenance": [],
      "authorship_tag": "ABX9TyOyAAuWIXEnoavqb2ebqw6L",
      "include_colab_link": true
    },
    "kernelspec": {
      "name": "python3",
      "display_name": "Python 3"
    },
    "accelerator": "GPU"
  },
  "cells": [
    {
      "cell_type": "markdown",
      "metadata": {
        "id": "view-in-github",
        "colab_type": "text"
      },
      "source": [
        "<a href=\"https://colab.research.google.com/github/oyane806/lets-stop-wildfires-hackathon/blob/master/test.ipynb\" target=\"_parent\"><img src=\"https://colab.research.google.com/assets/colab-badge.svg\" alt=\"Open In Colab\"/></a>"
      ]
    },
    {
      "cell_type": "code",
      "metadata": {
        "id": "4J9rOUz9JbIR",
        "colab_type": "code",
        "colab": {}
      },
      "source": [
        "%reload_ext autoreload\n",
        "%autoreload 2\n",
        "%matplotlib inline"
      ],
      "execution_count": 0,
      "outputs": []
    },
    {
      "cell_type": "code",
      "metadata": {
        "id": "ysNrNjVMPCoo",
        "colab_type": "code",
        "colab": {}
      },
      "source": [
        "from fastai.vision import *\n",
        "from fastai.metrics import error_rate"
      ],
      "execution_count": 0,
      "outputs": []
    },
    {
      "cell_type": "code",
      "metadata": {
        "id": "i_4HlvTqPJGo",
        "colab_type": "code",
        "colab": {
          "base_uri": "https://localhost:8080/",
          "height": 122
        },
        "outputId": "4466ff9f-0312-4744-a835-f1f216062674"
      },
      "source": [
        "from google.colab import drive\n",
        "drive.mount('/content/gdrive')"
      ],
      "execution_count": 3,
      "outputs": [
        {
          "output_type": "stream",
          "text": [
            "Go to this URL in a browser: https://accounts.google.com/o/oauth2/auth?client_id=947318989803-6bn6qk8qdgf4n4g3pfee6491hc0brc4i.apps.googleusercontent.com&redirect_uri=urn%3aietf%3awg%3aoauth%3a2.0%3aoob&response_type=code&scope=email%20https%3a%2f%2fwww.googleapis.com%2fauth%2fdocs.test%20https%3a%2f%2fwww.googleapis.com%2fauth%2fdrive%20https%3a%2f%2fwww.googleapis.com%2fauth%2fdrive.photos.readonly%20https%3a%2f%2fwww.googleapis.com%2fauth%2fpeopleapi.readonly\n",
            "\n",
            "Enter your authorization code:\n",
            "··········\n",
            "Mounted at /content/gdrive\n"
          ],
          "name": "stdout"
        }
      ]
    },
    {
      "cell_type": "code",
      "metadata": {
        "id": "HAKp2goYPTar",
        "colab_type": "code",
        "colab": {
          "base_uri": "https://localhost:8080/",
          "height": 85
        },
        "outputId": "641423e1-d241-4cd8-caa0-fcfbf2f6db58"
      },
      "source": [
        "!gdown https://drive.google.com/uc?id=1FfZqzTNGwGnI_XEKlqqdPEmETSGhpQW_"
      ],
      "execution_count": 4,
      "outputs": [
        {
          "output_type": "stream",
          "text": [
            "Downloading...\n",
            "From: https://drive.google.com/uc?id=1FfZqzTNGwGnI_XEKlqqdPEmETSGhpQW_\n",
            "To: /content/test.zip\n",
            "112MB [00:00, 217MB/s] \n"
          ],
          "name": "stdout"
        }
      ]
    },
    {
      "cell_type": "code",
      "metadata": {
        "id": "FC-nRTwrQI-B",
        "colab_type": "code",
        "colab": {}
      },
      "source": [
        "!unzip test.zip"
      ],
      "execution_count": 0,
      "outputs": []
    },
    {
      "cell_type": "code",
      "metadata": {
        "id": "MlCQEmQYQNot",
        "colab_type": "code",
        "colab": {
          "base_uri": "https://localhost:8080/",
          "height": 34
        },
        "outputId": "943aa6ed-f584-4c6c-8df7-cfaee6ed8e51"
      },
      "source": [
        "ls"
      ],
      "execution_count": 6,
      "outputs": [
        {
          "output_type": "stream",
          "text": [
            "\u001b[0m\u001b[01;34mgdrive\u001b[0m/  \u001b[01;34m__MACOSX\u001b[0m/  \u001b[01;34msample_data\u001b[0m/  \u001b[34;42mtest\u001b[0m/  test.zip\n"
          ],
          "name": "stdout"
        }
      ]
    },
    {
      "cell_type": "code",
      "metadata": {
        "id": "jRqZehF8Qrnt",
        "colab_type": "code",
        "colab": {}
      },
      "source": [
        "import os\n",
        "import pandas as pd\n",
        "import itertools"
      ],
      "execution_count": 0,
      "outputs": []
    },
    {
      "cell_type": "code",
      "metadata": {
        "id": "ovF8-OnwUwFZ",
        "colab_type": "code",
        "colab": {
          "base_uri": "https://localhost:8080/",
          "height": 34
        },
        "outputId": "07245329-378b-4f65-b667-b4b493727f65"
      },
      "source": [
        "import PIL\n",
        "from PIL import Image\n",
        "print('Pillow Version:', PIL.__version__)\n",
        "from matplotlib import image\n",
        "from matplotlib import pyplot\n",
        "from numpy import asarray\n",
        "import os.path\n",
        "from os import path\n",
        "from pathlib import Path"
      ],
      "execution_count": 8,
      "outputs": [
        {
          "output_type": "stream",
          "text": [
            "Pillow Version: 6.2.2\n"
          ],
          "name": "stdout"
        }
      ]
    },
    {
      "cell_type": "code",
      "metadata": {
        "id": "KhUXOjQr34XK",
        "colab_type": "code",
        "colab": {
          "base_uri": "https://localhost:8080/",
          "height": 34
        },
        "outputId": "1453ae3f-36c1-4e00-fe3e-18f3550413e1"
      },
      "source": [
        "cd test"
      ],
      "execution_count": 9,
      "outputs": [
        {
          "output_type": "stream",
          "text": [
            "/content/test\n"
          ],
          "name": "stdout"
        }
      ]
    },
    {
      "cell_type": "code",
      "metadata": {
        "id": "MRkznMMcRHLr",
        "colab_type": "code",
        "colab": {}
      },
      "source": [
        "folder = '20180704-Benton-hp-n-mobo-c'"
      ],
      "execution_count": 0,
      "outputs": []
    },
    {
      "cell_type": "code",
      "metadata": {
        "id": "KxUkRe8cQu_w",
        "colab_type": "code",
        "colab": {}
      },
      "source": [
        "data = []\n",
        "for file in sorted(os.listdir(folder)):\n",
        "  data.append((folder, file))\n",
        "\n",
        "df = pd.DataFrame(data, columns=['folder', 'file'])"
      ],
      "execution_count": 0,
      "outputs": []
    },
    {
      "cell_type": "code",
      "metadata": {
        "id": "Vd2sbUUMRNwK",
        "colab_type": "code",
        "colab": {
          "base_uri": "https://localhost:8080/",
          "height": 419
        },
        "outputId": "9404f0ba-ea14-49ff-8787-62e17b285e81"
      },
      "source": [
        "df"
      ],
      "execution_count": 12,
      "outputs": [
        {
          "output_type": "execute_result",
          "data": {
            "text/html": [
              "<div>\n",
              "<style scoped>\n",
              "    .dataframe tbody tr th:only-of-type {\n",
              "        vertical-align: middle;\n",
              "    }\n",
              "\n",
              "    .dataframe tbody tr th {\n",
              "        vertical-align: top;\n",
              "    }\n",
              "\n",
              "    .dataframe thead th {\n",
              "        text-align: right;\n",
              "    }\n",
              "</style>\n",
              "<table border=\"1\" class=\"dataframe\">\n",
              "  <thead>\n",
              "    <tr style=\"text-align: right;\">\n",
              "      <th></th>\n",
              "      <th>folder</th>\n",
              "      <th>file</th>\n",
              "    </tr>\n",
              "  </thead>\n",
              "  <tbody>\n",
              "    <tr>\n",
              "      <th>0</th>\n",
              "      <td>20180704-Benton-hp-n-mobo-c</td>\n",
              "      <td>1530737845_-01200.jpg</td>\n",
              "    </tr>\n",
              "    <tr>\n",
              "      <th>1</th>\n",
              "      <td>20180704-Benton-hp-n-mobo-c</td>\n",
              "      <td>1530737905_-01140.jpg</td>\n",
              "    </tr>\n",
              "    <tr>\n",
              "      <th>2</th>\n",
              "      <td>20180704-Benton-hp-n-mobo-c</td>\n",
              "      <td>1530737965_-01080.jpg</td>\n",
              "    </tr>\n",
              "    <tr>\n",
              "      <th>3</th>\n",
              "      <td>20180704-Benton-hp-n-mobo-c</td>\n",
              "      <td>1530738025_-01020.jpg</td>\n",
              "    </tr>\n",
              "    <tr>\n",
              "      <th>4</th>\n",
              "      <td>20180704-Benton-hp-n-mobo-c</td>\n",
              "      <td>1530738085_-00960.jpg</td>\n",
              "    </tr>\n",
              "    <tr>\n",
              "      <th>...</th>\n",
              "      <td>...</td>\n",
              "      <td>...</td>\n",
              "    </tr>\n",
              "    <tr>\n",
              "      <th>56</th>\n",
              "      <td>20180704-Benton-hp-n-mobo-c</td>\n",
              "      <td>1530741205_+02160.jpg</td>\n",
              "    </tr>\n",
              "    <tr>\n",
              "      <th>57</th>\n",
              "      <td>20180704-Benton-hp-n-mobo-c</td>\n",
              "      <td>1530741265_+02220.jpg</td>\n",
              "    </tr>\n",
              "    <tr>\n",
              "      <th>58</th>\n",
              "      <td>20180704-Benton-hp-n-mobo-c</td>\n",
              "      <td>1530741325_+02280.jpg</td>\n",
              "    </tr>\n",
              "    <tr>\n",
              "      <th>59</th>\n",
              "      <td>20180704-Benton-hp-n-mobo-c</td>\n",
              "      <td>1530741385_+02340.jpg</td>\n",
              "    </tr>\n",
              "    <tr>\n",
              "      <th>60</th>\n",
              "      <td>20180704-Benton-hp-n-mobo-c</td>\n",
              "      <td>1530741445_+02400.jpg</td>\n",
              "    </tr>\n",
              "  </tbody>\n",
              "</table>\n",
              "<p>61 rows × 2 columns</p>\n",
              "</div>"
            ],
            "text/plain": [
              "                         folder                   file\n",
              "0   20180704-Benton-hp-n-mobo-c  1530737845_-01200.jpg\n",
              "1   20180704-Benton-hp-n-mobo-c  1530737905_-01140.jpg\n",
              "2   20180704-Benton-hp-n-mobo-c  1530737965_-01080.jpg\n",
              "3   20180704-Benton-hp-n-mobo-c  1530738025_-01020.jpg\n",
              "4   20180704-Benton-hp-n-mobo-c  1530738085_-00960.jpg\n",
              "..                          ...                    ...\n",
              "56  20180704-Benton-hp-n-mobo-c  1530741205_+02160.jpg\n",
              "57  20180704-Benton-hp-n-mobo-c  1530741265_+02220.jpg\n",
              "58  20180704-Benton-hp-n-mobo-c  1530741325_+02280.jpg\n",
              "59  20180704-Benton-hp-n-mobo-c  1530741385_+02340.jpg\n",
              "60  20180704-Benton-hp-n-mobo-c  1530741445_+02400.jpg\n",
              "\n",
              "[61 rows x 2 columns]"
            ]
          },
          "metadata": {
            "tags": []
          },
          "execution_count": 12
        }
      ]
    },
    {
      "cell_type": "code",
      "metadata": {
        "id": "mckGQ5fGRfs0",
        "colab_type": "code",
        "colab": {}
      },
      "source": [
        "def find_combinations(df, file_name_col):\n",
        "  new = []\n",
        "  list_row_indices = list(range(len(df)))  # rows in list 0-(nrows-1)\n",
        "  row_pair_combinations = itertools.combinations(list_row_indices, 2)  # unique combinations of image pairs\n",
        "  for index in row_pair_combinations:\n",
        "    new.append(\n",
        "        {\n",
        "            \"image1\": df[file_name_col][index[0]],\n",
        "         \"image2\": df[file_name_col][index[1]]\n",
        "         })\n",
        "  return pd.DataFrame(new)"
      ],
      "execution_count": 0,
      "outputs": []
    },
    {
      "cell_type": "code",
      "metadata": {
        "id": "Yb-pL31pSGih",
        "colab_type": "code",
        "colab": {
          "base_uri": "https://localhost:8080/",
          "height": 419
        },
        "outputId": "4736c403-2203-4bba-c09b-a9625c231ee8"
      },
      "source": [
        "combinations = find_combinations(df, 'file')\n",
        "combinations"
      ],
      "execution_count": 14,
      "outputs": [
        {
          "output_type": "execute_result",
          "data": {
            "text/html": [
              "<div>\n",
              "<style scoped>\n",
              "    .dataframe tbody tr th:only-of-type {\n",
              "        vertical-align: middle;\n",
              "    }\n",
              "\n",
              "    .dataframe tbody tr th {\n",
              "        vertical-align: top;\n",
              "    }\n",
              "\n",
              "    .dataframe thead th {\n",
              "        text-align: right;\n",
              "    }\n",
              "</style>\n",
              "<table border=\"1\" class=\"dataframe\">\n",
              "  <thead>\n",
              "    <tr style=\"text-align: right;\">\n",
              "      <th></th>\n",
              "      <th>image1</th>\n",
              "      <th>image2</th>\n",
              "    </tr>\n",
              "  </thead>\n",
              "  <tbody>\n",
              "    <tr>\n",
              "      <th>0</th>\n",
              "      <td>1530737845_-01200.jpg</td>\n",
              "      <td>1530737905_-01140.jpg</td>\n",
              "    </tr>\n",
              "    <tr>\n",
              "      <th>1</th>\n",
              "      <td>1530737845_-01200.jpg</td>\n",
              "      <td>1530737965_-01080.jpg</td>\n",
              "    </tr>\n",
              "    <tr>\n",
              "      <th>2</th>\n",
              "      <td>1530737845_-01200.jpg</td>\n",
              "      <td>1530738025_-01020.jpg</td>\n",
              "    </tr>\n",
              "    <tr>\n",
              "      <th>3</th>\n",
              "      <td>1530737845_-01200.jpg</td>\n",
              "      <td>1530738085_-00960.jpg</td>\n",
              "    </tr>\n",
              "    <tr>\n",
              "      <th>4</th>\n",
              "      <td>1530737845_-01200.jpg</td>\n",
              "      <td>1530738145_-00900.jpg</td>\n",
              "    </tr>\n",
              "    <tr>\n",
              "      <th>...</th>\n",
              "      <td>...</td>\n",
              "      <td>...</td>\n",
              "    </tr>\n",
              "    <tr>\n",
              "      <th>1825</th>\n",
              "      <td>1530741265_+02220.jpg</td>\n",
              "      <td>1530741385_+02340.jpg</td>\n",
              "    </tr>\n",
              "    <tr>\n",
              "      <th>1826</th>\n",
              "      <td>1530741265_+02220.jpg</td>\n",
              "      <td>1530741445_+02400.jpg</td>\n",
              "    </tr>\n",
              "    <tr>\n",
              "      <th>1827</th>\n",
              "      <td>1530741325_+02280.jpg</td>\n",
              "      <td>1530741385_+02340.jpg</td>\n",
              "    </tr>\n",
              "    <tr>\n",
              "      <th>1828</th>\n",
              "      <td>1530741325_+02280.jpg</td>\n",
              "      <td>1530741445_+02400.jpg</td>\n",
              "    </tr>\n",
              "    <tr>\n",
              "      <th>1829</th>\n",
              "      <td>1530741385_+02340.jpg</td>\n",
              "      <td>1530741445_+02400.jpg</td>\n",
              "    </tr>\n",
              "  </tbody>\n",
              "</table>\n",
              "<p>1830 rows × 2 columns</p>\n",
              "</div>"
            ],
            "text/plain": [
              "                     image1                 image2\n",
              "0     1530737845_-01200.jpg  1530737905_-01140.jpg\n",
              "1     1530737845_-01200.jpg  1530737965_-01080.jpg\n",
              "2     1530737845_-01200.jpg  1530738025_-01020.jpg\n",
              "3     1530737845_-01200.jpg  1530738085_-00960.jpg\n",
              "4     1530737845_-01200.jpg  1530738145_-00900.jpg\n",
              "...                     ...                    ...\n",
              "1825  1530741265_+02220.jpg  1530741385_+02340.jpg\n",
              "1826  1530741265_+02220.jpg  1530741445_+02400.jpg\n",
              "1827  1530741325_+02280.jpg  1530741385_+02340.jpg\n",
              "1828  1530741325_+02280.jpg  1530741445_+02400.jpg\n",
              "1829  1530741385_+02340.jpg  1530741445_+02400.jpg\n",
              "\n",
              "[1830 rows x 2 columns]"
            ]
          },
          "metadata": {
            "tags": []
          },
          "execution_count": 14
        }
      ]
    },
    {
      "cell_type": "code",
      "metadata": {
        "id": "fvjJk8a2W_hS",
        "colab_type": "code",
        "colab": {}
      },
      "source": [
        "combinations['new_name'] = combinations.index"
      ],
      "execution_count": 0,
      "outputs": []
    },
    {
      "cell_type": "code",
      "metadata": {
        "id": "L1_I6clhXRxZ",
        "colab_type": "code",
        "colab": {
          "base_uri": "https://localhost:8080/",
          "height": 419
        },
        "outputId": "b92c91d1-de37-4f21-82e3-94dbb92bb7b7"
      },
      "source": [
        "combinations"
      ],
      "execution_count": 16,
      "outputs": [
        {
          "output_type": "execute_result",
          "data": {
            "text/html": [
              "<div>\n",
              "<style scoped>\n",
              "    .dataframe tbody tr th:only-of-type {\n",
              "        vertical-align: middle;\n",
              "    }\n",
              "\n",
              "    .dataframe tbody tr th {\n",
              "        vertical-align: top;\n",
              "    }\n",
              "\n",
              "    .dataframe thead th {\n",
              "        text-align: right;\n",
              "    }\n",
              "</style>\n",
              "<table border=\"1\" class=\"dataframe\">\n",
              "  <thead>\n",
              "    <tr style=\"text-align: right;\">\n",
              "      <th></th>\n",
              "      <th>image1</th>\n",
              "      <th>image2</th>\n",
              "      <th>new_name</th>\n",
              "    </tr>\n",
              "  </thead>\n",
              "  <tbody>\n",
              "    <tr>\n",
              "      <th>0</th>\n",
              "      <td>1530737845_-01200.jpg</td>\n",
              "      <td>1530737905_-01140.jpg</td>\n",
              "      <td>0</td>\n",
              "    </tr>\n",
              "    <tr>\n",
              "      <th>1</th>\n",
              "      <td>1530737845_-01200.jpg</td>\n",
              "      <td>1530737965_-01080.jpg</td>\n",
              "      <td>1</td>\n",
              "    </tr>\n",
              "    <tr>\n",
              "      <th>2</th>\n",
              "      <td>1530737845_-01200.jpg</td>\n",
              "      <td>1530738025_-01020.jpg</td>\n",
              "      <td>2</td>\n",
              "    </tr>\n",
              "    <tr>\n",
              "      <th>3</th>\n",
              "      <td>1530737845_-01200.jpg</td>\n",
              "      <td>1530738085_-00960.jpg</td>\n",
              "      <td>3</td>\n",
              "    </tr>\n",
              "    <tr>\n",
              "      <th>4</th>\n",
              "      <td>1530737845_-01200.jpg</td>\n",
              "      <td>1530738145_-00900.jpg</td>\n",
              "      <td>4</td>\n",
              "    </tr>\n",
              "    <tr>\n",
              "      <th>...</th>\n",
              "      <td>...</td>\n",
              "      <td>...</td>\n",
              "      <td>...</td>\n",
              "    </tr>\n",
              "    <tr>\n",
              "      <th>1825</th>\n",
              "      <td>1530741265_+02220.jpg</td>\n",
              "      <td>1530741385_+02340.jpg</td>\n",
              "      <td>1825</td>\n",
              "    </tr>\n",
              "    <tr>\n",
              "      <th>1826</th>\n",
              "      <td>1530741265_+02220.jpg</td>\n",
              "      <td>1530741445_+02400.jpg</td>\n",
              "      <td>1826</td>\n",
              "    </tr>\n",
              "    <tr>\n",
              "      <th>1827</th>\n",
              "      <td>1530741325_+02280.jpg</td>\n",
              "      <td>1530741385_+02340.jpg</td>\n",
              "      <td>1827</td>\n",
              "    </tr>\n",
              "    <tr>\n",
              "      <th>1828</th>\n",
              "      <td>1530741325_+02280.jpg</td>\n",
              "      <td>1530741445_+02400.jpg</td>\n",
              "      <td>1828</td>\n",
              "    </tr>\n",
              "    <tr>\n",
              "      <th>1829</th>\n",
              "      <td>1530741385_+02340.jpg</td>\n",
              "      <td>1530741445_+02400.jpg</td>\n",
              "      <td>1829</td>\n",
              "    </tr>\n",
              "  </tbody>\n",
              "</table>\n",
              "<p>1830 rows × 3 columns</p>\n",
              "</div>"
            ],
            "text/plain": [
              "                     image1                 image2  new_name\n",
              "0     1530737845_-01200.jpg  1530737905_-01140.jpg         0\n",
              "1     1530737845_-01200.jpg  1530737965_-01080.jpg         1\n",
              "2     1530737845_-01200.jpg  1530738025_-01020.jpg         2\n",
              "3     1530737845_-01200.jpg  1530738085_-00960.jpg         3\n",
              "4     1530737845_-01200.jpg  1530738145_-00900.jpg         4\n",
              "...                     ...                    ...       ...\n",
              "1825  1530741265_+02220.jpg  1530741385_+02340.jpg      1825\n",
              "1826  1530741265_+02220.jpg  1530741445_+02400.jpg      1826\n",
              "1827  1530741325_+02280.jpg  1530741385_+02340.jpg      1827\n",
              "1828  1530741325_+02280.jpg  1530741445_+02400.jpg      1828\n",
              "1829  1530741385_+02340.jpg  1530741445_+02400.jpg      1829\n",
              "\n",
              "[1830 rows x 3 columns]"
            ]
          },
          "metadata": {
            "tags": []
          },
          "execution_count": 16
        }
      ]
    },
    {
      "cell_type": "code",
      "metadata": {
        "id": "fBUhyVNoTF0F",
        "colab_type": "code",
        "colab": {}
      },
      "source": [
        "def calculate_image_diff128(df, folder):\n",
        "  current_image_number = 0\n",
        "  for i in range(0, len(df)):\n",
        "    if i % 100 == 0:\n",
        "      print(i)\n",
        "    if i >= current_image_number:\n",
        "      temp1 = Image.open(f'{folder}/{df.image1[i]}')\n",
        "      temp2 = Image.open(f'{folder}/{df.image2[i]}')\n",
        "      temp = asarray(temp2)-asarray(temp1)\n",
        "      temp = Image.fromarray(temp)\n",
        "      temp.thumbnail((128,128))\n",
        "      Path('diff').mkdir(parents=True, exist_ok=True)\n",
        "      temp.save(f'diff/{df.new_name[i]}.jpg', format='JPEG')\n",
        "      current_image_number =+ 1"
      ],
      "execution_count": 0,
      "outputs": []
    },
    {
      "cell_type": "code",
      "metadata": {
        "id": "4hziSikQT2KM",
        "colab_type": "code",
        "colab": {
          "base_uri": "https://localhost:8080/",
          "height": 340
        },
        "outputId": "7da02020-133c-4bf3-8c68-2916c50ff8d4"
      },
      "source": [
        "calculate_image_diff128(combinations, folder)"
      ],
      "execution_count": 18,
      "outputs": [
        {
          "output_type": "stream",
          "text": [
            "0\n",
            "100\n",
            "200\n",
            "300\n",
            "400\n",
            "500\n",
            "600\n",
            "700\n",
            "800\n",
            "900\n",
            "1000\n",
            "1100\n",
            "1200\n",
            "1300\n",
            "1400\n",
            "1500\n",
            "1600\n",
            "1700\n",
            "1800\n"
          ],
          "name": "stdout"
        }
      ]
    },
    {
      "cell_type": "code",
      "metadata": {
        "id": "e8wp8ad17OZf",
        "colab_type": "code",
        "colab": {}
      },
      "source": [
        "test=ImageList.from_folder('diff')"
      ],
      "execution_count": 0,
      "outputs": []
    },
    {
      "cell_type": "code",
      "metadata": {
        "id": "YpYoFqDeXats",
        "colab_type": "code",
        "colab": {}
      },
      "source": [
        "learn = load_learner(\"/content/gdrive/My Drive/fastai/wildfires/stage-3-unfreezed\", test=test)"
      ],
      "execution_count": 0,
      "outputs": []
    },
    {
      "cell_type": "code",
      "metadata": {
        "id": "3h3IqBep6Nlj",
        "colab_type": "code",
        "colab": {
          "base_uri": "https://localhost:8080/",
          "height": 17
        },
        "outputId": "f01a115e-9561-4685-93dc-ef465e5fc5e3"
      },
      "source": [
        "preds,y = learn.get_preds(ds_type=DatasetType.Test)"
      ],
      "execution_count": 21,
      "outputs": [
        {
          "output_type": "display_data",
          "data": {
            "text/html": [
              ""
            ],
            "text/plain": [
              "<IPython.core.display.HTML object>"
            ]
          },
          "metadata": {
            "tags": []
          }
        }
      ]
    },
    {
      "cell_type": "code",
      "metadata": {
        "id": "C1YKD4eRA2Cc",
        "colab_type": "code",
        "colab": {}
      },
      "source": [
        "filename = test.items"
      ],
      "execution_count": 0,
      "outputs": []
    },
    {
      "cell_type": "code",
      "metadata": {
        "id": "3XSDZW2ERQ9S",
        "colab_type": "code",
        "colab": {}
      },
      "source": [
        "labels = np.argmax(preds, 1)"
      ],
      "execution_count": 0,
      "outputs": []
    },
    {
      "cell_type": "code",
      "metadata": {
        "id": "J88PmiqNcaFF",
        "colab_type": "code",
        "colab": {
          "base_uri": "https://localhost:8080/",
          "height": 34
        },
        "outputId": "924a9e40-fe60-469f-ce90-ec855503722e"
      },
      "source": [
        "ls\n"
      ],
      "execution_count": 25,
      "outputs": [
        {
          "output_type": "stream",
          "text": [
            "\u001b[0m\u001b[34;42m20180704-Benton-hp-n-mobo-c\u001b[0m/  \u001b[34;42m20180706-West-lp-n-mobo-c\u001b[0m/  \u001b[01;34mdiff\u001b[0m/\n"
          ],
          "name": "stdout"
        }
      ]
    },
    {
      "cell_type": "code",
      "metadata": {
        "id": "vyOvLdyhFwro",
        "colab_type": "code",
        "colab": {
          "base_uri": "https://localhost:8080/",
          "height": 34
        },
        "outputId": "318b0e06-5f1c-4acb-f3bf-e20ecad25bfb"
      },
      "source": [
        "img = open_image('diff/25.jpg')\n",
        "learn.predict(img)"
      ],
      "execution_count": 26,
      "outputs": [
        {
          "output_type": "execute_result",
          "data": {
            "text/plain": [
              "(Category smoke, tensor(1), tensor([0.3234, 0.6766]))"
            ]
          },
          "metadata": {
            "tags": []
          },
          "execution_count": 26
        }
      ]
    },
    {
      "cell_type": "code",
      "metadata": {
        "id": "Ue3YDPqdcecC",
        "colab_type": "code",
        "colab": {
          "base_uri": "https://localhost:8080/",
          "height": 113
        },
        "outputId": "1f951b5b-96d0-4862-fcba-82c768772700"
      },
      "source": [
        "img = open_image('diff/25.jpg')\n",
        "img"
      ],
      "execution_count": 29,
      "outputs": [
        {
          "output_type": "execute_result",
          "data": {
            "image/png": "[encoded data removed]",
            "image/jpeg": "[encoded data removed]",
            "text/plain": [
              "Image (3, 96, 128)"
            ]
          },
          "metadata": {
            "tags": []
          },
          "execution_count": 29
        }
      ]
    },
    {
      "cell_type": "code",
      "metadata": {
        "id": "QnS5iHyze3ay",
        "colab_type": "code",
        "colab": {
          "base_uri": "https://localhost:8080/",
          "height": 34
        },
        "outputId": "6b45cddf-14ce-4ff9-e646-5ed5a0a7136d"
      },
      "source": [
        "ls"
      ],
      "execution_count": 38,
      "outputs": [
        {
          "output_type": "stream",
          "text": [
            "\u001b[0m\u001b[34;42m20180704-Benton-hp-n-mobo-c\u001b[0m/  \u001b[34;42m20180706-West-lp-n-mobo-c\u001b[0m/  \u001b[01;34mdiff\u001b[0m/\n"
          ],
          "name": "stdout"
        }
      ]
    },
    {
      "cell_type": "code",
      "metadata": {
        "id": "1ObEFHhO8THX",
        "colab_type": "code",
        "colab": {}
      },
      "source": [
        "arr_preds = preds.numpy()\n",
        "df_preds = pd.DataFrame(arr_preds)\n",
        "df = pd.DataFrame(filename)"
      ],
      "execution_count": 0,
      "outputs": []
    },
    {
      "cell_type": "code",
      "metadata": {
        "id": "2dF5nS6RGxjG",
        "colab_type": "code",
        "colab": {}
      },
      "source": [
        "df['no_smoke'] = df_preds[0]\n",
        "df['smoke'] = df_preds[1]\n",
        "df['label'] = labels"
      ],
      "execution_count": 0,
      "outputs": []
    },
    {
      "cell_type": "code",
      "metadata": {
        "id": "jGCvTRImOIna",
        "colab_type": "code",
        "colab": {}
      },
      "source": [
        "df.rename(columns={0: \"path\"}, inplace=True)"
      ],
      "execution_count": 0,
      "outputs": []
    },
    {
      "cell_type": "code",
      "metadata": {
        "id": "5onwkWfSIjSz",
        "colab_type": "code",
        "colab": {}
      },
      "source": [
        "df['path'] = df['path'].astype('str')\n",
        "df['filename'] = df.path.str.extract(r'diff/(.*).jpg', expand=True)\n",
        "df['filename'] = df['filename'].astype('int')"
      ],
      "execution_count": 0,
      "outputs": []
    },
    {
      "cell_type": "code",
      "metadata": {
        "id": "Iv4ZyOqIO_7d",
        "colab_type": "code",
        "colab": {}
      },
      "source": [
        "left_join = pd.merge(df, combinations, how='left', left_on='filename', right_on='new_name')\n",
        "left_join.sort_values(by='filename', ascending=1, inplace=True)"
      ],
      "execution_count": 0,
      "outputs": []
    },
    {
      "cell_type": "code",
      "metadata": {
        "id": "lPRoa4N_P3OT",
        "colab_type": "code",
        "colab": {
          "base_uri": "https://localhost:8080/",
          "height": 1000
        },
        "outputId": "2fc42023-147d-47d6-d6bf-1fb6b69d9026"
      },
      "source": [
        "left_join.head(50)"
      ],
      "execution_count": 36,
      "outputs": [
        {
          "output_type": "execute_result",
          "data": {
            "text/html": [
              "<div>\n",
              "<style scoped>\n",
              "    .dataframe tbody tr th:only-of-type {\n",
              "        vertical-align: middle;\n",
              "    }\n",
              "\n",
              "    .dataframe tbody tr th {\n",
              "        vertical-align: top;\n",
              "    }\n",
              "\n",
              "    .dataframe thead th {\n",
              "        text-align: right;\n",
              "    }\n",
              "</style>\n",
              "<table border=\"1\" class=\"dataframe\">\n",
              "  <thead>\n",
              "    <tr style=\"text-align: right;\">\n",
              "      <th></th>\n",
              "      <th>path</th>\n",
              "      <th>no_smoke</th>\n",
              "      <th>smoke</th>\n",
              "      <th>label</th>\n",
              "      <th>filename</th>\n",
              "      <th>image1</th>\n",
              "      <th>image2</th>\n",
              "      <th>new_name</th>\n",
              "    </tr>\n",
              "  </thead>\n",
              "  <tbody>\n",
              "    <tr>\n",
              "      <th>991</th>\n",
              "      <td>diff/0.jpg</td>\n",
              "      <td>0.999958</td>\n",
              "      <td>4.246809e-05</td>\n",
              "      <td>0</td>\n",
              "      <td>0</td>\n",
              "      <td>1530737845_-01200.jpg</td>\n",
              "      <td>1530737905_-01140.jpg</td>\n",
              "      <td>0</td>\n",
              "    </tr>\n",
              "    <tr>\n",
              "      <th>1488</th>\n",
              "      <td>diff/1.jpg</td>\n",
              "      <td>0.998762</td>\n",
              "      <td>1.237939e-03</td>\n",
              "      <td>0</td>\n",
              "      <td>1</td>\n",
              "      <td>1530737845_-01200.jpg</td>\n",
              "      <td>1530737965_-01080.jpg</td>\n",
              "      <td>1</td>\n",
              "    </tr>\n",
              "    <tr>\n",
              "      <th>1214</th>\n",
              "      <td>diff/2.jpg</td>\n",
              "      <td>0.999250</td>\n",
              "      <td>7.496615e-04</td>\n",
              "      <td>0</td>\n",
              "      <td>2</td>\n",
              "      <td>1530737845_-01200.jpg</td>\n",
              "      <td>1530738025_-01020.jpg</td>\n",
              "      <td>2</td>\n",
              "    </tr>\n",
              "    <tr>\n",
              "      <th>1276</th>\n",
              "      <td>diff/3.jpg</td>\n",
              "      <td>0.999662</td>\n",
              "      <td>3.381167e-04</td>\n",
              "      <td>0</td>\n",
              "      <td>3</td>\n",
              "      <td>1530737845_-01200.jpg</td>\n",
              "      <td>1530738085_-00960.jpg</td>\n",
              "      <td>3</td>\n",
              "    </tr>\n",
              "    <tr>\n",
              "      <th>513</th>\n",
              "      <td>diff/4.jpg</td>\n",
              "      <td>0.999088</td>\n",
              "      <td>9.121791e-04</td>\n",
              "      <td>0</td>\n",
              "      <td>4</td>\n",
              "      <td>1530737845_-01200.jpg</td>\n",
              "      <td>1530738145_-00900.jpg</td>\n",
              "      <td>4</td>\n",
              "    </tr>\n",
              "    <tr>\n",
              "      <th>1271</th>\n",
              "      <td>diff/5.jpg</td>\n",
              "      <td>0.999824</td>\n",
              "      <td>1.763031e-04</td>\n",
              "      <td>0</td>\n",
              "      <td>5</td>\n",
              "      <td>1530737845_-01200.jpg</td>\n",
              "      <td>1530738205_-00840.jpg</td>\n",
              "      <td>5</td>\n",
              "    </tr>\n",
              "    <tr>\n",
              "      <th>533</th>\n",
              "      <td>diff/6.jpg</td>\n",
              "      <td>0.999999</td>\n",
              "      <td>8.031486e-07</td>\n",
              "      <td>0</td>\n",
              "      <td>6</td>\n",
              "      <td>1530737845_-01200.jpg</td>\n",
              "      <td>1530738265_-00780.jpg</td>\n",
              "      <td>6</td>\n",
              "    </tr>\n",
              "    <tr>\n",
              "      <th>534</th>\n",
              "      <td>diff/7.jpg</td>\n",
              "      <td>0.999985</td>\n",
              "      <td>1.522784e-05</td>\n",
              "      <td>0</td>\n",
              "      <td>7</td>\n",
              "      <td>1530737845_-01200.jpg</td>\n",
              "      <td>1530738325_-00720.jpg</td>\n",
              "      <td>7</td>\n",
              "    </tr>\n",
              "    <tr>\n",
              "      <th>1145</th>\n",
              "      <td>diff/8.jpg</td>\n",
              "      <td>0.999967</td>\n",
              "      <td>3.278896e-05</td>\n",
              "      <td>0</td>\n",
              "      <td>8</td>\n",
              "      <td>1530737845_-01200.jpg</td>\n",
              "      <td>1530738385_-00660.jpg</td>\n",
              "      <td>8</td>\n",
              "    </tr>\n",
              "    <tr>\n",
              "      <th>704</th>\n",
              "      <td>diff/9.jpg</td>\n",
              "      <td>0.999940</td>\n",
              "      <td>6.045087e-05</td>\n",
              "      <td>0</td>\n",
              "      <td>9</td>\n",
              "      <td>1530737845_-01200.jpg</td>\n",
              "      <td>1530738445_-00600.jpg</td>\n",
              "      <td>9</td>\n",
              "    </tr>\n",
              "    <tr>\n",
              "      <th>46</th>\n",
              "      <td>diff/10.jpg</td>\n",
              "      <td>0.999032</td>\n",
              "      <td>9.679400e-04</td>\n",
              "      <td>0</td>\n",
              "      <td>10</td>\n",
              "      <td>1530737845_-01200.jpg</td>\n",
              "      <td>1530738505_-00540.jpg</td>\n",
              "      <td>10</td>\n",
              "    </tr>\n",
              "    <tr>\n",
              "      <th>463</th>\n",
              "      <td>diff/11.jpg</td>\n",
              "      <td>0.999977</td>\n",
              "      <td>2.341464e-05</td>\n",
              "      <td>0</td>\n",
              "      <td>11</td>\n",
              "      <td>1530737845_-01200.jpg</td>\n",
              "      <td>1530738565_-00480.jpg</td>\n",
              "      <td>11</td>\n",
              "    </tr>\n",
              "    <tr>\n",
              "      <th>480</th>\n",
              "      <td>diff/12.jpg</td>\n",
              "      <td>0.994078</td>\n",
              "      <td>5.922448e-03</td>\n",
              "      <td>0</td>\n",
              "      <td>12</td>\n",
              "      <td>1530737845_-01200.jpg</td>\n",
              "      <td>1530738625_-00420.jpg</td>\n",
              "      <td>12</td>\n",
              "    </tr>\n",
              "    <tr>\n",
              "      <th>1634</th>\n",
              "      <td>diff/13.jpg</td>\n",
              "      <td>0.998778</td>\n",
              "      <td>1.222168e-03</td>\n",
              "      <td>0</td>\n",
              "      <td>13</td>\n",
              "      <td>1530737845_-01200.jpg</td>\n",
              "      <td>1530738685_-00360.jpg</td>\n",
              "      <td>13</td>\n",
              "    </tr>\n",
              "    <tr>\n",
              "      <th>1245</th>\n",
              "      <td>diff/14.jpg</td>\n",
              "      <td>0.999137</td>\n",
              "      <td>8.632212e-04</td>\n",
              "      <td>0</td>\n",
              "      <td>14</td>\n",
              "      <td>1530737845_-01200.jpg</td>\n",
              "      <td>1530738745_-00300.jpg</td>\n",
              "      <td>14</td>\n",
              "    </tr>\n",
              "    <tr>\n",
              "      <th>37</th>\n",
              "      <td>diff/15.jpg</td>\n",
              "      <td>0.988301</td>\n",
              "      <td>1.169854e-02</td>\n",
              "      <td>0</td>\n",
              "      <td>15</td>\n",
              "      <td>1530737845_-01200.jpg</td>\n",
              "      <td>1530738805_-00240.jpg</td>\n",
              "      <td>15</td>\n",
              "    </tr>\n",
              "    <tr>\n",
              "      <th>705</th>\n",
              "      <td>diff/16.jpg</td>\n",
              "      <td>0.812309</td>\n",
              "      <td>1.876908e-01</td>\n",
              "      <td>0</td>\n",
              "      <td>16</td>\n",
              "      <td>1530737845_-01200.jpg</td>\n",
              "      <td>1530738865_-00180.jpg</td>\n",
              "      <td>16</td>\n",
              "    </tr>\n",
              "    <tr>\n",
              "      <th>738</th>\n",
              "      <td>diff/17.jpg</td>\n",
              "      <td>0.989016</td>\n",
              "      <td>1.098439e-02</td>\n",
              "      <td>0</td>\n",
              "      <td>17</td>\n",
              "      <td>1530737845_-01200.jpg</td>\n",
              "      <td>1530738925_-00120.jpg</td>\n",
              "      <td>17</td>\n",
              "    </tr>\n",
              "    <tr>\n",
              "      <th>1655</th>\n",
              "      <td>diff/18.jpg</td>\n",
              "      <td>0.989269</td>\n",
              "      <td>1.073053e-02</td>\n",
              "      <td>0</td>\n",
              "      <td>18</td>\n",
              "      <td>1530737845_-01200.jpg</td>\n",
              "      <td>1530738985_-00060.jpg</td>\n",
              "      <td>18</td>\n",
              "    </tr>\n",
              "    <tr>\n",
              "      <th>613</th>\n",
              "      <td>diff/19.jpg</td>\n",
              "      <td>0.983741</td>\n",
              "      <td>1.625935e-02</td>\n",
              "      <td>0</td>\n",
              "      <td>19</td>\n",
              "      <td>1530737845_-01200.jpg</td>\n",
              "      <td>1530739045_+00000.jpg</td>\n",
              "      <td>19</td>\n",
              "    </tr>\n",
              "    <tr>\n",
              "      <th>1819</th>\n",
              "      <td>diff/20.jpg</td>\n",
              "      <td>0.893509</td>\n",
              "      <td>1.064907e-01</td>\n",
              "      <td>0</td>\n",
              "      <td>20</td>\n",
              "      <td>1530737845_-01200.jpg</td>\n",
              "      <td>1530739105_+00060.jpg</td>\n",
              "      <td>20</td>\n",
              "    </tr>\n",
              "    <tr>\n",
              "      <th>252</th>\n",
              "      <td>diff/21.jpg</td>\n",
              "      <td>0.956227</td>\n",
              "      <td>4.377290e-02</td>\n",
              "      <td>0</td>\n",
              "      <td>21</td>\n",
              "      <td>1530737845_-01200.jpg</td>\n",
              "      <td>1530739165_+00120.jpg</td>\n",
              "      <td>21</td>\n",
              "    </tr>\n",
              "    <tr>\n",
              "      <th>412</th>\n",
              "      <td>diff/22.jpg</td>\n",
              "      <td>0.775702</td>\n",
              "      <td>2.242983e-01</td>\n",
              "      <td>0</td>\n",
              "      <td>22</td>\n",
              "      <td>1530737845_-01200.jpg</td>\n",
              "      <td>1530739225_+00180.jpg</td>\n",
              "      <td>22</td>\n",
              "    </tr>\n",
              "    <tr>\n",
              "      <th>1202</th>\n",
              "      <td>diff/23.jpg</td>\n",
              "      <td>0.993705</td>\n",
              "      <td>6.295272e-03</td>\n",
              "      <td>0</td>\n",
              "      <td>23</td>\n",
              "      <td>1530737845_-01200.jpg</td>\n",
              "      <td>1530739285_+00240.jpg</td>\n",
              "      <td>23</td>\n",
              "    </tr>\n",
              "    <tr>\n",
              "      <th>284</th>\n",
              "      <td>diff/24.jpg</td>\n",
              "      <td>0.927635</td>\n",
              "      <td>7.236502e-02</td>\n",
              "      <td>0</td>\n",
              "      <td>24</td>\n",
              "      <td>1530737845_-01200.jpg</td>\n",
              "      <td>1530739345_+00300.jpg</td>\n",
              "      <td>24</td>\n",
              "    </tr>\n",
              "    <tr>\n",
              "      <th>113</th>\n",
              "      <td>diff/25.jpg</td>\n",
              "      <td>0.323429</td>\n",
              "      <td>6.765715e-01</td>\n",
              "      <td>1</td>\n",
              "      <td>25</td>\n",
              "      <td>1530737845_-01200.jpg</td>\n",
              "      <td>1530739405_+00360.jpg</td>\n",
              "      <td>25</td>\n",
              "    </tr>\n",
              "    <tr>\n",
              "      <th>1113</th>\n",
              "      <td>diff/26.jpg</td>\n",
              "      <td>0.337031</td>\n",
              "      <td>6.629687e-01</td>\n",
              "      <td>1</td>\n",
              "      <td>26</td>\n",
              "      <td>1530737845_-01200.jpg</td>\n",
              "      <td>1530739465_+00420.jpg</td>\n",
              "      <td>26</td>\n",
              "    </tr>\n",
              "    <tr>\n",
              "      <th>926</th>\n",
              "      <td>diff/27.jpg</td>\n",
              "      <td>0.070460</td>\n",
              "      <td>9.295400e-01</td>\n",
              "      <td>1</td>\n",
              "      <td>27</td>\n",
              "      <td>1530737845_-01200.jpg</td>\n",
              "      <td>1530739525_+00480.jpg</td>\n",
              "      <td>27</td>\n",
              "    </tr>\n",
              "    <tr>\n",
              "      <th>1330</th>\n",
              "      <td>diff/28.jpg</td>\n",
              "      <td>0.023706</td>\n",
              "      <td>9.762936e-01</td>\n",
              "      <td>1</td>\n",
              "      <td>28</td>\n",
              "      <td>1530737845_-01200.jpg</td>\n",
              "      <td>1530739585_+00540.jpg</td>\n",
              "      <td>28</td>\n",
              "    </tr>\n",
              "    <tr>\n",
              "      <th>633</th>\n",
              "      <td>diff/29.jpg</td>\n",
              "      <td>0.012970</td>\n",
              "      <td>9.870296e-01</td>\n",
              "      <td>1</td>\n",
              "      <td>29</td>\n",
              "      <td>1530737845_-01200.jpg</td>\n",
              "      <td>1530739645_+00600.jpg</td>\n",
              "      <td>29</td>\n",
              "    </tr>\n",
              "    <tr>\n",
              "      <th>1531</th>\n",
              "      <td>diff/30.jpg</td>\n",
              "      <td>0.005173</td>\n",
              "      <td>9.948269e-01</td>\n",
              "      <td>1</td>\n",
              "      <td>30</td>\n",
              "      <td>1530737845_-01200.jpg</td>\n",
              "      <td>1530739705_+00660.jpg</td>\n",
              "      <td>30</td>\n",
              "    </tr>\n",
              "    <tr>\n",
              "      <th>419</th>\n",
              "      <td>diff/31.jpg</td>\n",
              "      <td>0.000369</td>\n",
              "      <td>9.996306e-01</td>\n",
              "      <td>1</td>\n",
              "      <td>31</td>\n",
              "      <td>1530737845_-01200.jpg</td>\n",
              "      <td>1530739765_+00720.jpg</td>\n",
              "      <td>31</td>\n",
              "    </tr>\n",
              "    <tr>\n",
              "      <th>250</th>\n",
              "      <td>diff/32.jpg</td>\n",
              "      <td>0.075617</td>\n",
              "      <td>9.243827e-01</td>\n",
              "      <td>1</td>\n",
              "      <td>32</td>\n",
              "      <td>1530737845_-01200.jpg</td>\n",
              "      <td>1530739825_+00780.jpg</td>\n",
              "      <td>32</td>\n",
              "    </tr>\n",
              "    <tr>\n",
              "      <th>1280</th>\n",
              "      <td>diff/33.jpg</td>\n",
              "      <td>0.000587</td>\n",
              "      <td>9.994127e-01</td>\n",
              "      <td>1</td>\n",
              "      <td>33</td>\n",
              "      <td>1530737845_-01200.jpg</td>\n",
              "      <td>1530739885_+00840.jpg</td>\n",
              "      <td>33</td>\n",
              "    </tr>\n",
              "    <tr>\n",
              "      <th>1669</th>\n",
              "      <td>diff/34.jpg</td>\n",
              "      <td>0.000296</td>\n",
              "      <td>9.997041e-01</td>\n",
              "      <td>1</td>\n",
              "      <td>34</td>\n",
              "      <td>1530737845_-01200.jpg</td>\n",
              "      <td>1530739945_+00900.jpg</td>\n",
              "      <td>34</td>\n",
              "    </tr>\n",
              "    <tr>\n",
              "      <th>275</th>\n",
              "      <td>diff/35.jpg</td>\n",
              "      <td>0.000170</td>\n",
              "      <td>9.998301e-01</td>\n",
              "      <td>1</td>\n",
              "      <td>35</td>\n",
              "      <td>1530737845_-01200.jpg</td>\n",
              "      <td>1530740005_+00960.jpg</td>\n",
              "      <td>35</td>\n",
              "    </tr>\n",
              "    <tr>\n",
              "      <th>748</th>\n",
              "      <td>diff/36.jpg</td>\n",
              "      <td>0.000064</td>\n",
              "      <td>9.999356e-01</td>\n",
              "      <td>1</td>\n",
              "      <td>36</td>\n",
              "      <td>1530737845_-01200.jpg</td>\n",
              "      <td>1530740065_+01020.jpg</td>\n",
              "      <td>36</td>\n",
              "    </tr>\n",
              "    <tr>\n",
              "      <th>883</th>\n",
              "      <td>diff/37.jpg</td>\n",
              "      <td>0.001862</td>\n",
              "      <td>9.981382e-01</td>\n",
              "      <td>1</td>\n",
              "      <td>37</td>\n",
              "      <td>1530737845_-01200.jpg</td>\n",
              "      <td>1530740125_+01080.jpg</td>\n",
              "      <td>37</td>\n",
              "    </tr>\n",
              "    <tr>\n",
              "      <th>761</th>\n",
              "      <td>diff/38.jpg</td>\n",
              "      <td>0.002961</td>\n",
              "      <td>9.970388e-01</td>\n",
              "      <td>1</td>\n",
              "      <td>38</td>\n",
              "      <td>1530737845_-01200.jpg</td>\n",
              "      <td>1530740185_+01140.jpg</td>\n",
              "      <td>38</td>\n",
              "    </tr>\n",
              "    <tr>\n",
              "      <th>1410</th>\n",
              "      <td>diff/39.jpg</td>\n",
              "      <td>0.001721</td>\n",
              "      <td>9.982789e-01</td>\n",
              "      <td>1</td>\n",
              "      <td>39</td>\n",
              "      <td>1530737845_-01200.jpg</td>\n",
              "      <td>1530740245_+01200.jpg</td>\n",
              "      <td>39</td>\n",
              "    </tr>\n",
              "    <tr>\n",
              "      <th>1813</th>\n",
              "      <td>diff/40.jpg</td>\n",
              "      <td>0.003191</td>\n",
              "      <td>9.968091e-01</td>\n",
              "      <td>1</td>\n",
              "      <td>40</td>\n",
              "      <td>1530737845_-01200.jpg</td>\n",
              "      <td>1530740305_+01260.jpg</td>\n",
              "      <td>40</td>\n",
              "    </tr>\n",
              "    <tr>\n",
              "      <th>403</th>\n",
              "      <td>diff/41.jpg</td>\n",
              "      <td>0.013080</td>\n",
              "      <td>9.869202e-01</td>\n",
              "      <td>1</td>\n",
              "      <td>41</td>\n",
              "      <td>1530737845_-01200.jpg</td>\n",
              "      <td>1530740365_+01320.jpg</td>\n",
              "      <td>41</td>\n",
              "    </tr>\n",
              "    <tr>\n",
              "      <th>1053</th>\n",
              "      <td>diff/42.jpg</td>\n",
              "      <td>0.011858</td>\n",
              "      <td>9.881423e-01</td>\n",
              "      <td>1</td>\n",
              "      <td>42</td>\n",
              "      <td>1530737845_-01200.jpg</td>\n",
              "      <td>1530740425_+01380.jpg</td>\n",
              "      <td>42</td>\n",
              "    </tr>\n",
              "    <tr>\n",
              "      <th>1216</th>\n",
              "      <td>diff/43.jpg</td>\n",
              "      <td>0.013575</td>\n",
              "      <td>9.864246e-01</td>\n",
              "      <td>1</td>\n",
              "      <td>43</td>\n",
              "      <td>1530737845_-01200.jpg</td>\n",
              "      <td>1530740485_+01440.jpg</td>\n",
              "      <td>43</td>\n",
              "    </tr>\n",
              "    <tr>\n",
              "      <th>1794</th>\n",
              "      <td>diff/44.jpg</td>\n",
              "      <td>0.008473</td>\n",
              "      <td>9.915267e-01</td>\n",
              "      <td>1</td>\n",
              "      <td>44</td>\n",
              "      <td>1530737845_-01200.jpg</td>\n",
              "      <td>1530740545_+01500.jpg</td>\n",
              "      <td>44</td>\n",
              "    </tr>\n",
              "    <tr>\n",
              "      <th>1205</th>\n",
              "      <td>diff/45.jpg</td>\n",
              "      <td>0.041588</td>\n",
              "      <td>9.584125e-01</td>\n",
              "      <td>1</td>\n",
              "      <td>45</td>\n",
              "      <td>1530737845_-01200.jpg</td>\n",
              "      <td>1530740605_+01560.jpg</td>\n",
              "      <td>45</td>\n",
              "    </tr>\n",
              "    <tr>\n",
              "      <th>348</th>\n",
              "      <td>diff/46.jpg</td>\n",
              "      <td>0.023800</td>\n",
              "      <td>9.761999e-01</td>\n",
              "      <td>1</td>\n",
              "      <td>46</td>\n",
              "      <td>1530737845_-01200.jpg</td>\n",
              "      <td>1530740665_+01620.jpg</td>\n",
              "      <td>46</td>\n",
              "    </tr>\n",
              "    <tr>\n",
              "      <th>467</th>\n",
              "      <td>diff/47.jpg</td>\n",
              "      <td>0.004966</td>\n",
              "      <td>9.950340e-01</td>\n",
              "      <td>1</td>\n",
              "      <td>47</td>\n",
              "      <td>1530737845_-01200.jpg</td>\n",
              "      <td>1530740725_+01680.jpg</td>\n",
              "      <td>47</td>\n",
              "    </tr>\n",
              "    <tr>\n",
              "      <th>938</th>\n",
              "      <td>diff/48.jpg</td>\n",
              "      <td>0.004258</td>\n",
              "      <td>9.957415e-01</td>\n",
              "      <td>1</td>\n",
              "      <td>48</td>\n",
              "      <td>1530737845_-01200.jpg</td>\n",
              "      <td>1530740785_+01740.jpg</td>\n",
              "      <td>48</td>\n",
              "    </tr>\n",
              "    <tr>\n",
              "      <th>1408</th>\n",
              "      <td>diff/49.jpg</td>\n",
              "      <td>0.010793</td>\n",
              "      <td>9.892074e-01</td>\n",
              "      <td>1</td>\n",
              "      <td>49</td>\n",
              "      <td>1530737845_-01200.jpg</td>\n",
              "      <td>1530740845_+01800.jpg</td>\n",
              "      <td>49</td>\n",
              "    </tr>\n",
              "  </tbody>\n",
              "</table>\n",
              "</div>"
            ],
            "text/plain": [
              "             path  no_smoke  ...                 image2  new_name\n",
              "991    diff/0.jpg  0.999958  ...  1530737905_-01140.jpg         0\n",
              "1488   diff/1.jpg  0.998762  ...  1530737965_-01080.jpg         1\n",
              "1214   diff/2.jpg  0.999250  ...  1530738025_-01020.jpg         2\n",
              "1276   diff/3.jpg  0.999662  ...  1530738085_-00960.jpg         3\n",
              "513    diff/4.jpg  0.999088  ...  1530738145_-00900.jpg         4\n",
              "1271   diff/5.jpg  0.999824  ...  1530738205_-00840.jpg         5\n",
              "533    diff/6.jpg  0.999999  ...  1530738265_-00780.jpg         6\n",
              "534    diff/7.jpg  0.999985  ...  1530738325_-00720.jpg         7\n",
              "1145   diff/8.jpg  0.999967  ...  1530738385_-00660.jpg         8\n",
              "704    diff/9.jpg  0.999940  ...  1530738445_-00600.jpg         9\n",
              "46    diff/10.jpg  0.999032  ...  1530738505_-00540.jpg        10\n",
              "463   diff/11.jpg  0.999977  ...  1530738565_-00480.jpg        11\n",
              "480   diff/12.jpg  0.994078  ...  1530738625_-00420.jpg        12\n",
              "1634  diff/13.jpg  0.998778  ...  1530738685_-00360.jpg        13\n",
              "1245  diff/14.jpg  0.999137  ...  1530738745_-00300.jpg        14\n",
              "37    diff/15.jpg  0.988301  ...  1530738805_-00240.jpg        15\n",
              "705   diff/16.jpg  0.812309  ...  1530738865_-00180.jpg        16\n",
              "738   diff/17.jpg  0.989016  ...  1530738925_-00120.jpg        17\n",
              "1655  diff/18.jpg  0.989269  ...  1530738985_-00060.jpg        18\n",
              "613   diff/19.jpg  0.983741  ...  1530739045_+00000.jpg        19\n",
              "1819  diff/20.jpg  0.893509  ...  1530739105_+00060.jpg        20\n",
              "252   diff/21.jpg  0.956227  ...  1530739165_+00120.jpg        21\n",
              "412   diff/22.jpg  0.775702  ...  1530739225_+00180.jpg        22\n",
              "1202  diff/23.jpg  0.993705  ...  1530739285_+00240.jpg        23\n",
              "284   diff/24.jpg  0.927635  ...  1530739345_+00300.jpg        24\n",
              "113   diff/25.jpg  0.323429  ...  1530739405_+00360.jpg        25\n",
              "1113  diff/26.jpg  0.337031  ...  1530739465_+00420.jpg        26\n",
              "926   diff/27.jpg  0.070460  ...  1530739525_+00480.jpg        27\n",
              "1330  diff/28.jpg  0.023706  ...  1530739585_+00540.jpg        28\n",
              "633   diff/29.jpg  0.012970  ...  1530739645_+00600.jpg        29\n",
              "1531  diff/30.jpg  0.005173  ...  1530739705_+00660.jpg        30\n",
              "419   diff/31.jpg  0.000369  ...  1530739765_+00720.jpg        31\n",
              "250   diff/32.jpg  0.075617  ...  1530739825_+00780.jpg        32\n",
              "1280  diff/33.jpg  0.000587  ...  1530739885_+00840.jpg        33\n",
              "1669  diff/34.jpg  0.000296  ...  1530739945_+00900.jpg        34\n",
              "275   diff/35.jpg  0.000170  ...  1530740005_+00960.jpg        35\n",
              "748   diff/36.jpg  0.000064  ...  1530740065_+01020.jpg        36\n",
              "883   diff/37.jpg  0.001862  ...  1530740125_+01080.jpg        37\n",
              "761   diff/38.jpg  0.002961  ...  1530740185_+01140.jpg        38\n",
              "1410  diff/39.jpg  0.001721  ...  1530740245_+01200.jpg        39\n",
              "1813  diff/40.jpg  0.003191  ...  1530740305_+01260.jpg        40\n",
              "403   diff/41.jpg  0.013080  ...  1530740365_+01320.jpg        41\n",
              "1053  diff/42.jpg  0.011858  ...  1530740425_+01380.jpg        42\n",
              "1216  diff/43.jpg  0.013575  ...  1530740485_+01440.jpg        43\n",
              "1794  diff/44.jpg  0.008473  ...  1530740545_+01500.jpg        44\n",
              "1205  diff/45.jpg  0.041588  ...  1530740605_+01560.jpg        45\n",
              "348   diff/46.jpg  0.023800  ...  1530740665_+01620.jpg        46\n",
              "467   diff/47.jpg  0.004966  ...  1530740725_+01680.jpg        47\n",
              "938   diff/48.jpg  0.004258  ...  1530740785_+01740.jpg        48\n",
              "1408  diff/49.jpg  0.010793  ...  1530740845_+01800.jpg        49\n",
              "\n",
              "[50 rows x 8 columns]"
            ]
          },
          "metadata": {
            "tags": []
          },
          "execution_count": 36
        }
      ]
    },
    {
      "cell_type": "code",
      "metadata": {
        "id": "OWL2gBTvT5ue",
        "colab_type": "code",
        "colab": {}
      },
      "source": [
        "left_join.to_csv(\"/content/gdrive/My Drive/fastai/wildfires/stage-3-unfreezed/results1.csv\")"
      ],
      "execution_count": 0,
      "outputs": []
    }
  ]
}