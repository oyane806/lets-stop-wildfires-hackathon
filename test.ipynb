{
  "nbformat": 4,
  "nbformat_minor": 0,
  "metadata": {
    "colab": {
      "name": "test.ipynb",
      "provenance": [],
      "authorship_tag": "ABX9TyN3YymIcIFaLPs1loIPEDii",
      "include_colab_link": true
    },
    "kernelspec": {
      "name": "python3",
      "display_name": "Python 3"
    },
    "accelerator": "GPU"
  },
  "cells": [
    {
      "cell_type": "markdown",
      "metadata": {
        "id": "view-in-github",
        "colab_type": "text"
      },
      "source": [
        "<a href=\"https://colab.research.google.com/github/oyane806/lets-stop-wildfires-hackathon/blob/master/test.ipynb\" target=\"_parent\"><img src=\"https://colab.research.google.com/assets/colab-badge.svg\" alt=\"Open In Colab\"/></a>"
      ]
    },
    {
      "cell_type": "code",
      "metadata": {
        "id": "4J9rOUz9JbIR",
        "colab_type": "code",
        "colab": {}
      },
      "source": [
        "%reload_ext autoreload\n",
        "%autoreload 2\n",
        "%matplotlib inline"
      ],
      "execution_count": 0,
      "outputs": []
    },
    {
      "cell_type": "code",
      "metadata": {
        "id": "ysNrNjVMPCoo",
        "colab_type": "code",
        "colab": {}
      },
      "source": [
        "from fastai.vision import *\n",
        "from fastai.metrics import error_rate"
      ],
      "execution_count": 0,
      "outputs": []
    },
    {
      "cell_type": "code",
      "metadata": {
        "id": "i_4HlvTqPJGo",
        "colab_type": "code",
        "colab": {
          "base_uri": "https://localhost:8080/",
          "height": 122
        },
        "outputId": "ca4f6b17-a648-4f4b-ee53-c0af89107823"
      },
      "source": [
        "from google.colab import drive\n",
        "drive.mount('/content/gdrive')"
      ],
      "execution_count": 3,
      "outputs": [
        {
          "output_type": "stream",
          "text": [
            "Go to this URL in a browser: https://accounts.google.com/o/oauth2/auth?client_id=947318989803-6bn6qk8qdgf4n4g3pfee6491hc0brc4i.apps.googleusercontent.com&redirect_uri=urn%3aietf%3awg%3aoauth%3a2.0%3aoob&response_type=code&scope=email%20https%3a%2f%2fwww.googleapis.com%2fauth%2fdocs.test%20https%3a%2f%2fwww.googleapis.com%2fauth%2fdrive%20https%3a%2f%2fwww.googleapis.com%2fauth%2fdrive.photos.readonly%20https%3a%2f%2fwww.googleapis.com%2fauth%2fpeopleapi.readonly\n",
            "\n",
            "Enter your authorization code:\n",
            "··········\n",
            "Mounted at /content/gdrive\n"
          ],
          "name": "stdout"
        }
      ]
    },
    {
      "cell_type": "code",
      "metadata": {
        "id": "HAKp2goYPTar",
        "colab_type": "code",
        "colab": {
          "base_uri": "https://localhost:8080/",
          "height": 85
        },
        "outputId": "04ed642a-4206-4fa4-f8d2-fb75bd47573b"
      },
      "source": [
        "!gdown https://drive.google.com/uc?id=1FfZqzTNGwGnI_XEKlqqdPEmETSGhpQW_"
      ],
      "execution_count": 4,
      "outputs": [
        {
          "output_type": "stream",
          "text": [
            "Downloading...\n",
            "From: https://drive.google.com/uc?id=1FfZqzTNGwGnI_XEKlqqdPEmETSGhpQW_\n",
            "To: /content/test.zip\n",
            "112MB [00:00, 155MB/s] \n"
          ],
          "name": "stdout"
        }
      ]
    },
    {
      "cell_type": "code",
      "metadata": {
        "id": "FC-nRTwrQI-B",
        "colab_type": "code",
        "colab": {}
      },
      "source": [
        "!unzip test.zip"
      ],
      "execution_count": 0,
      "outputs": []
    },
    {
      "cell_type": "code",
      "metadata": {
        "id": "MlCQEmQYQNot",
        "colab_type": "code",
        "colab": {
          "base_uri": "https://localhost:8080/",
          "height": 34
        },
        "outputId": "bec6934d-73b1-459b-b110-aba1c90713d8"
      },
      "source": [
        "ls"
      ],
      "execution_count": 6,
      "outputs": [
        {
          "output_type": "stream",
          "text": [
            "\u001b[0m\u001b[01;34mgdrive\u001b[0m/  \u001b[01;34m__MACOSX\u001b[0m/  \u001b[01;34msample_data\u001b[0m/  \u001b[34;42mtest\u001b[0m/  test.zip\n"
          ],
          "name": "stdout"
        }
      ]
    },
    {
      "cell_type": "code",
      "metadata": {
        "id": "jRqZehF8Qrnt",
        "colab_type": "code",
        "colab": {}
      },
      "source": [
        "import os\n",
        "import pandas as pd\n",
        "import itertools"
      ],
      "execution_count": 0,
      "outputs": []
    },
    {
      "cell_type": "code",
      "metadata": {
        "id": "ovF8-OnwUwFZ",
        "colab_type": "code",
        "colab": {
          "base_uri": "https://localhost:8080/",
          "height": 34
        },
        "outputId": "a03a2922-a028-49db-db5c-72d7276e87bd"
      },
      "source": [
        "import PIL\n",
        "from PIL import Image\n",
        "print('Pillow Version:', PIL.__version__)\n",
        "from matplotlib import image\n",
        "from matplotlib import pyplot\n",
        "from numpy import asarray\n",
        "import os.path\n",
        "from os import path\n",
        "from pathlib import Path"
      ],
      "execution_count": 8,
      "outputs": [
        {
          "output_type": "stream",
          "text": [
            "Pillow Version: 6.2.2\n"
          ],
          "name": "stdout"
        }
      ]
    },
    {
      "cell_type": "code",
      "metadata": {
        "id": "KhUXOjQr34XK",
        "colab_type": "code",
        "colab": {
          "base_uri": "https://localhost:8080/",
          "height": 34
        },
        "outputId": "e9adb449-bda2-46fd-813e-99e592d2e67b"
      },
      "source": [
        "cd test"
      ],
      "execution_count": 11,
      "outputs": [
        {
          "output_type": "stream",
          "text": [
            "/content/test\n"
          ],
          "name": "stdout"
        }
      ]
    },
    {
      "cell_type": "code",
      "metadata": {
        "id": "MRkznMMcRHLr",
        "colab_type": "code",
        "colab": {}
      },
      "source": [
        "folder = '20180704-Benton-hp-n-mobo-c'"
      ],
      "execution_count": 0,
      "outputs": []
    },
    {
      "cell_type": "code",
      "metadata": {
        "id": "KxUkRe8cQu_w",
        "colab_type": "code",
        "colab": {}
      },
      "source": [
        "data = []\n",
        "for file in sorted(os.listdir(folder)):\n",
        "  data.append((folder, file))\n",
        "\n",
        "df = pd.DataFrame(data, columns=['folder', 'file'])"
      ],
      "execution_count": 0,
      "outputs": []
    },
    {
      "cell_type": "code",
      "metadata": {
        "id": "Vd2sbUUMRNwK",
        "colab_type": "code",
        "colab": {
          "base_uri": "https://localhost:8080/",
          "height": 419
        },
        "outputId": "c5a25d20-2c0c-4455-932a-683fc9492034"
      },
      "source": [
        "df"
      ],
      "execution_count": 13,
      "outputs": [
        {
          "output_type": "execute_result",
          "data": {
            "text/html": [
              "<div>\n",
              "<style scoped>\n",
              "    .dataframe tbody tr th:only-of-type {\n",
              "        vertical-align: middle;\n",
              "    }\n",
              "\n",
              "    .dataframe tbody tr th {\n",
              "        vertical-align: top;\n",
              "    }\n",
              "\n",
              "    .dataframe thead th {\n",
              "        text-align: right;\n",
              "    }\n",
              "</style>\n",
              "<table border=\"1\" class=\"dataframe\">\n",
              "  <thead>\n",
              "    <tr style=\"text-align: right;\">\n",
              "      <th></th>\n",
              "      <th>folder</th>\n",
              "      <th>file</th>\n",
              "    </tr>\n",
              "  </thead>\n",
              "  <tbody>\n",
              "    <tr>\n",
              "      <th>0</th>\n",
              "      <td>20180704-Benton-hp-n-mobo-c</td>\n",
              "      <td>1530737845_-01200.jpg</td>\n",
              "    </tr>\n",
              "    <tr>\n",
              "      <th>1</th>\n",
              "      <td>20180704-Benton-hp-n-mobo-c</td>\n",
              "      <td>1530737905_-01140.jpg</td>\n",
              "    </tr>\n",
              "    <tr>\n",
              "      <th>2</th>\n",
              "      <td>20180704-Benton-hp-n-mobo-c</td>\n",
              "      <td>1530737965_-01080.jpg</td>\n",
              "    </tr>\n",
              "    <tr>\n",
              "      <th>3</th>\n",
              "      <td>20180704-Benton-hp-n-mobo-c</td>\n",
              "      <td>1530738025_-01020.jpg</td>\n",
              "    </tr>\n",
              "    <tr>\n",
              "      <th>4</th>\n",
              "      <td>20180704-Benton-hp-n-mobo-c</td>\n",
              "      <td>1530738085_-00960.jpg</td>\n",
              "    </tr>\n",
              "    <tr>\n",
              "      <th>...</th>\n",
              "      <td>...</td>\n",
              "      <td>...</td>\n",
              "    </tr>\n",
              "    <tr>\n",
              "      <th>56</th>\n",
              "      <td>20180704-Benton-hp-n-mobo-c</td>\n",
              "      <td>1530741205_+02160.jpg</td>\n",
              "    </tr>\n",
              "    <tr>\n",
              "      <th>57</th>\n",
              "      <td>20180704-Benton-hp-n-mobo-c</td>\n",
              "      <td>1530741265_+02220.jpg</td>\n",
              "    </tr>\n",
              "    <tr>\n",
              "      <th>58</th>\n",
              "      <td>20180704-Benton-hp-n-mobo-c</td>\n",
              "      <td>1530741325_+02280.jpg</td>\n",
              "    </tr>\n",
              "    <tr>\n",
              "      <th>59</th>\n",
              "      <td>20180704-Benton-hp-n-mobo-c</td>\n",
              "      <td>1530741385_+02340.jpg</td>\n",
              "    </tr>\n",
              "    <tr>\n",
              "      <th>60</th>\n",
              "      <td>20180704-Benton-hp-n-mobo-c</td>\n",
              "      <td>1530741445_+02400.jpg</td>\n",
              "    </tr>\n",
              "  </tbody>\n",
              "</table>\n",
              "<p>61 rows × 2 columns</p>\n",
              "</div>"
            ],
            "text/plain": [
              "                         folder                   file\n",
              "0   20180704-Benton-hp-n-mobo-c  1530737845_-01200.jpg\n",
              "1   20180704-Benton-hp-n-mobo-c  1530737905_-01140.jpg\n",
              "2   20180704-Benton-hp-n-mobo-c  1530737965_-01080.jpg\n",
              "3   20180704-Benton-hp-n-mobo-c  1530738025_-01020.jpg\n",
              "4   20180704-Benton-hp-n-mobo-c  1530738085_-00960.jpg\n",
              "..                          ...                    ...\n",
              "56  20180704-Benton-hp-n-mobo-c  1530741205_+02160.jpg\n",
              "57  20180704-Benton-hp-n-mobo-c  1530741265_+02220.jpg\n",
              "58  20180704-Benton-hp-n-mobo-c  1530741325_+02280.jpg\n",
              "59  20180704-Benton-hp-n-mobo-c  1530741385_+02340.jpg\n",
              "60  20180704-Benton-hp-n-mobo-c  1530741445_+02400.jpg\n",
              "\n",
              "[61 rows x 2 columns]"
            ]
          },
          "metadata": {
            "tags": []
          },
          "execution_count": 13
        }
      ]
    },
    {
      "cell_type": "code",
      "metadata": {
        "id": "mckGQ5fGRfs0",
        "colab_type": "code",
        "colab": {}
      },
      "source": [
        "def find_combinations(df, file_name_col):\n",
        "  new = []\n",
        "  list_row_indices = list(range(len(df)))  # rows in list 0-(nrows-1)\n",
        "  row_pair_combinations = itertools.combinations(list_row_indices, 2)  # unique combinations of image pairs\n",
        "  for index in row_pair_combinations:\n",
        "    new.append(\n",
        "        {\n",
        "            \"image1\": df[file_name_col][index[0]],\n",
        "         \"image2\": df[file_name_col][index[1]]\n",
        "         })\n",
        "  return pd.DataFrame(new)"
      ],
      "execution_count": 0,
      "outputs": []
    },
    {
      "cell_type": "code",
      "metadata": {
        "id": "Yb-pL31pSGih",
        "colab_type": "code",
        "colab": {
          "base_uri": "https://localhost:8080/",
          "height": 419
        },
        "outputId": "e8732607-64e8-4105-efa6-192907434128"
      },
      "source": [
        "combinations = find_combinations(df, 'file')\n",
        "combinations"
      ],
      "execution_count": 15,
      "outputs": [
        {
          "output_type": "execute_result",
          "data": {
            "text/html": [
              "<div>\n",
              "<style scoped>\n",
              "    .dataframe tbody tr th:only-of-type {\n",
              "        vertical-align: middle;\n",
              "    }\n",
              "\n",
              "    .dataframe tbody tr th {\n",
              "        vertical-align: top;\n",
              "    }\n",
              "\n",
              "    .dataframe thead th {\n",
              "        text-align: right;\n",
              "    }\n",
              "</style>\n",
              "<table border=\"1\" class=\"dataframe\">\n",
              "  <thead>\n",
              "    <tr style=\"text-align: right;\">\n",
              "      <th></th>\n",
              "      <th>image1</th>\n",
              "      <th>image2</th>\n",
              "    </tr>\n",
              "  </thead>\n",
              "  <tbody>\n",
              "    <tr>\n",
              "      <th>0</th>\n",
              "      <td>1530737845_-01200.jpg</td>\n",
              "      <td>1530737905_-01140.jpg</td>\n",
              "    </tr>\n",
              "    <tr>\n",
              "      <th>1</th>\n",
              "      <td>1530737845_-01200.jpg</td>\n",
              "      <td>1530737965_-01080.jpg</td>\n",
              "    </tr>\n",
              "    <tr>\n",
              "      <th>2</th>\n",
              "      <td>1530737845_-01200.jpg</td>\n",
              "      <td>1530738025_-01020.jpg</td>\n",
              "    </tr>\n",
              "    <tr>\n",
              "      <th>3</th>\n",
              "      <td>1530737845_-01200.jpg</td>\n",
              "      <td>1530738085_-00960.jpg</td>\n",
              "    </tr>\n",
              "    <tr>\n",
              "      <th>4</th>\n",
              "      <td>1530737845_-01200.jpg</td>\n",
              "      <td>1530738145_-00900.jpg</td>\n",
              "    </tr>\n",
              "    <tr>\n",
              "      <th>...</th>\n",
              "      <td>...</td>\n",
              "      <td>...</td>\n",
              "    </tr>\n",
              "    <tr>\n",
              "      <th>1825</th>\n",
              "      <td>1530741265_+02220.jpg</td>\n",
              "      <td>1530741385_+02340.jpg</td>\n",
              "    </tr>\n",
              "    <tr>\n",
              "      <th>1826</th>\n",
              "      <td>1530741265_+02220.jpg</td>\n",
              "      <td>1530741445_+02400.jpg</td>\n",
              "    </tr>\n",
              "    <tr>\n",
              "      <th>1827</th>\n",
              "      <td>1530741325_+02280.jpg</td>\n",
              "      <td>1530741385_+02340.jpg</td>\n",
              "    </tr>\n",
              "    <tr>\n",
              "      <th>1828</th>\n",
              "      <td>1530741325_+02280.jpg</td>\n",
              "      <td>1530741445_+02400.jpg</td>\n",
              "    </tr>\n",
              "    <tr>\n",
              "      <th>1829</th>\n",
              "      <td>1530741385_+02340.jpg</td>\n",
              "      <td>1530741445_+02400.jpg</td>\n",
              "    </tr>\n",
              "  </tbody>\n",
              "</table>\n",
              "<p>1830 rows × 2 columns</p>\n",
              "</div>"
            ],
            "text/plain": [
              "                     image1                 image2\n",
              "0     1530737845_-01200.jpg  1530737905_-01140.jpg\n",
              "1     1530737845_-01200.jpg  1530737965_-01080.jpg\n",
              "2     1530737845_-01200.jpg  1530738025_-01020.jpg\n",
              "3     1530737845_-01200.jpg  1530738085_-00960.jpg\n",
              "4     1530737845_-01200.jpg  1530738145_-00900.jpg\n",
              "...                     ...                    ...\n",
              "1825  1530741265_+02220.jpg  1530741385_+02340.jpg\n",
              "1826  1530741265_+02220.jpg  1530741445_+02400.jpg\n",
              "1827  1530741325_+02280.jpg  1530741385_+02340.jpg\n",
              "1828  1530741325_+02280.jpg  1530741445_+02400.jpg\n",
              "1829  1530741385_+02340.jpg  1530741445_+02400.jpg\n",
              "\n",
              "[1830 rows x 2 columns]"
            ]
          },
          "metadata": {
            "tags": []
          },
          "execution_count": 15
        }
      ]
    },
    {
      "cell_type": "code",
      "metadata": {
        "id": "fvjJk8a2W_hS",
        "colab_type": "code",
        "colab": {}
      },
      "source": [
        "combinations['new_name'] = combinations.index"
      ],
      "execution_count": 0,
      "outputs": []
    },
    {
      "cell_type": "code",
      "metadata": {
        "id": "L1_I6clhXRxZ",
        "colab_type": "code",
        "colab": {
          "base_uri": "https://localhost:8080/",
          "height": 419
        },
        "outputId": "c3943c48-1592-471a-f7e3-3bab2ba26445"
      },
      "source": [
        "combinations"
      ],
      "execution_count": 17,
      "outputs": [
        {
          "output_type": "execute_result",
          "data": {
            "text/html": [
              "<div>\n",
              "<style scoped>\n",
              "    .dataframe tbody tr th:only-of-type {\n",
              "        vertical-align: middle;\n",
              "    }\n",
              "\n",
              "    .dataframe tbody tr th {\n",
              "        vertical-align: top;\n",
              "    }\n",
              "\n",
              "    .dataframe thead th {\n",
              "        text-align: right;\n",
              "    }\n",
              "</style>\n",
              "<table border=\"1\" class=\"dataframe\">\n",
              "  <thead>\n",
              "    <tr style=\"text-align: right;\">\n",
              "      <th></th>\n",
              "      <th>image1</th>\n",
              "      <th>image2</th>\n",
              "      <th>new_name</th>\n",
              "    </tr>\n",
              "  </thead>\n",
              "  <tbody>\n",
              "    <tr>\n",
              "      <th>0</th>\n",
              "      <td>1530737845_-01200.jpg</td>\n",
              "      <td>1530737905_-01140.jpg</td>\n",
              "      <td>0</td>\n",
              "    </tr>\n",
              "    <tr>\n",
              "      <th>1</th>\n",
              "      <td>1530737845_-01200.jpg</td>\n",
              "      <td>1530737965_-01080.jpg</td>\n",
              "      <td>1</td>\n",
              "    </tr>\n",
              "    <tr>\n",
              "      <th>2</th>\n",
              "      <td>1530737845_-01200.jpg</td>\n",
              "      <td>1530738025_-01020.jpg</td>\n",
              "      <td>2</td>\n",
              "    </tr>\n",
              "    <tr>\n",
              "      <th>3</th>\n",
              "      <td>1530737845_-01200.jpg</td>\n",
              "      <td>1530738085_-00960.jpg</td>\n",
              "      <td>3</td>\n",
              "    </tr>\n",
              "    <tr>\n",
              "      <th>4</th>\n",
              "      <td>1530737845_-01200.jpg</td>\n",
              "      <td>1530738145_-00900.jpg</td>\n",
              "      <td>4</td>\n",
              "    </tr>\n",
              "    <tr>\n",
              "      <th>...</th>\n",
              "      <td>...</td>\n",
              "      <td>...</td>\n",
              "      <td>...</td>\n",
              "    </tr>\n",
              "    <tr>\n",
              "      <th>1825</th>\n",
              "      <td>1530741265_+02220.jpg</td>\n",
              "      <td>1530741385_+02340.jpg</td>\n",
              "      <td>1825</td>\n",
              "    </tr>\n",
              "    <tr>\n",
              "      <th>1826</th>\n",
              "      <td>1530741265_+02220.jpg</td>\n",
              "      <td>1530741445_+02400.jpg</td>\n",
              "      <td>1826</td>\n",
              "    </tr>\n",
              "    <tr>\n",
              "      <th>1827</th>\n",
              "      <td>1530741325_+02280.jpg</td>\n",
              "      <td>1530741385_+02340.jpg</td>\n",
              "      <td>1827</td>\n",
              "    </tr>\n",
              "    <tr>\n",
              "      <th>1828</th>\n",
              "      <td>1530741325_+02280.jpg</td>\n",
              "      <td>1530741445_+02400.jpg</td>\n",
              "      <td>1828</td>\n",
              "    </tr>\n",
              "    <tr>\n",
              "      <th>1829</th>\n",
              "      <td>1530741385_+02340.jpg</td>\n",
              "      <td>1530741445_+02400.jpg</td>\n",
              "      <td>1829</td>\n",
              "    </tr>\n",
              "  </tbody>\n",
              "</table>\n",
              "<p>1830 rows × 3 columns</p>\n",
              "</div>"
            ],
            "text/plain": [
              "                     image1                 image2  new_name\n",
              "0     1530737845_-01200.jpg  1530737905_-01140.jpg         0\n",
              "1     1530737845_-01200.jpg  1530737965_-01080.jpg         1\n",
              "2     1530737845_-01200.jpg  1530738025_-01020.jpg         2\n",
              "3     1530737845_-01200.jpg  1530738085_-00960.jpg         3\n",
              "4     1530737845_-01200.jpg  1530738145_-00900.jpg         4\n",
              "...                     ...                    ...       ...\n",
              "1825  1530741265_+02220.jpg  1530741385_+02340.jpg      1825\n",
              "1826  1530741265_+02220.jpg  1530741445_+02400.jpg      1826\n",
              "1827  1530741325_+02280.jpg  1530741385_+02340.jpg      1827\n",
              "1828  1530741325_+02280.jpg  1530741445_+02400.jpg      1828\n",
              "1829  1530741385_+02340.jpg  1530741445_+02400.jpg      1829\n",
              "\n",
              "[1830 rows x 3 columns]"
            ]
          },
          "metadata": {
            "tags": []
          },
          "execution_count": 17
        }
      ]
    },
    {
      "cell_type": "code",
      "metadata": {
        "id": "fBUhyVNoTF0F",
        "colab_type": "code",
        "colab": {}
      },
      "source": [
        "def calculate_image_diff128(df, folder):\n",
        "  current_image_number = 0\n",
        "  for i in range(0, len(df)):\n",
        "    if i % 100 == 0:\n",
        "      print(i)\n",
        "    if i >= current_image_number:\n",
        "      temp1 = Image.open(f'{folder}/{df.image1[i]}')\n",
        "      temp2 = Image.open(f'{folder}/{df.image2[i]}')\n",
        "      temp = asarray(temp2)-asarray(temp1)\n",
        "      temp = Image.fromarray(temp)\n",
        "      temp.thumbnail((128,128))\n",
        "      Path('diff').mkdir(parents=True, exist_ok=True)\n",
        "      temp.save(f'diff/{df.new_name[i]}.jpg', format='JPEG')\n",
        "      current_image_number =+ 1"
      ],
      "execution_count": 0,
      "outputs": []
    },
    {
      "cell_type": "code",
      "metadata": {
        "id": "4hziSikQT2KM",
        "colab_type": "code",
        "colab": {
          "base_uri": "https://localhost:8080/",
          "height": 340
        },
        "outputId": "7edbd0e7-5c5d-490d-9ff8-5e579782eda0"
      },
      "source": [
        "calculate_image_diff128(combinations, folder)"
      ],
      "execution_count": 19,
      "outputs": [
        {
          "output_type": "stream",
          "text": [
            "0\n",
            "100\n",
            "200\n",
            "300\n",
            "400\n",
            "500\n",
            "600\n",
            "700\n",
            "800\n",
            "900\n",
            "1000\n",
            "1100\n",
            "1200\n",
            "1300\n",
            "1400\n",
            "1500\n",
            "1600\n",
            "1700\n",
            "1800\n"
          ],
          "name": "stdout"
        }
      ]
    },
    {
      "cell_type": "code",
      "metadata": {
        "id": "ufFIBYqS58Ik",
        "colab_type": "code",
        "colab": {
          "base_uri": "https://localhost:8080/",
          "height": 34
        },
        "outputId": "0f8586fc-8e89-45f0-8452-7e9720603272"
      },
      "source": [
        "cd diff"
      ],
      "execution_count": 30,
      "outputs": [
        {
          "output_type": "stream",
          "text": [
            "/content/test/diff\n"
          ],
          "name": "stdout"
        }
      ]
    },
    {
      "cell_type": "code",
      "metadata": {
        "id": "e8wp8ad17OZf",
        "colab_type": "code",
        "colab": {}
      },
      "source": [
        "test=ImageList.from_folder('diff')"
      ],
      "execution_count": 0,
      "outputs": []
    },
    {
      "cell_type": "code",
      "metadata": {
        "id": "YpYoFqDeXats",
        "colab_type": "code",
        "colab": {}
      },
      "source": [
        "learn = load_learner(\"/content/gdrive/My Drive/fastai/wildfires/stage-3-unfreezed\", test=test)"
      ],
      "execution_count": 0,
      "outputs": []
    },
    {
      "cell_type": "code",
      "metadata": {
        "id": "3h3IqBep6Nlj",
        "colab_type": "code",
        "colab": {
          "base_uri": "https://localhost:8080/",
          "height": 17
        },
        "outputId": "fb5d0762-2e9c-4fa4-b83e-0d32fbaca846"
      },
      "source": [
        "preds,y = learn.get_preds(ds_type=DatasetType.Test)"
      ],
      "execution_count": 151,
      "outputs": [
        {
          "output_type": "display_data",
          "data": {
            "text/html": [
              ""
            ],
            "text/plain": [
              "<IPython.core.display.HTML object>"
            ]
          },
          "metadata": {
            "tags": []
          }
        }
      ]
    },
    {
      "cell_type": "code",
      "metadata": {
        "id": "C1YKD4eRA2Cc",
        "colab_type": "code",
        "colab": {}
      },
      "source": [
        "filename = test.items"
      ],
      "execution_count": 0,
      "outputs": []
    },
    {
      "cell_type": "code",
      "metadata": {
        "id": "3XSDZW2ERQ9S",
        "colab_type": "code",
        "colab": {}
      },
      "source": [
        "labels = np.argmax(preds, 1)"
      ],
      "execution_count": 0,
      "outputs": []
    },
    {
      "cell_type": "code",
      "metadata": {
        "id": "vyOvLdyhFwro",
        "colab_type": "code",
        "colab": {
          "base_uri": "https://localhost:8080/",
          "height": 324
        },
        "outputId": "9c2cb784-8441-48b0-e89e-cad767dd479f"
      },
      "source": [
        "img = open_image('25.jpg')\n",
        "learn.predict(img)"
      ],
      "execution_count": 173,
      "outputs": [
        {
          "output_type": "error",
          "ename": "FileNotFoundError",
          "evalue": "ignored",
          "traceback": [
            "\u001b[0;31m---------------------------------------------------------------------------\u001b[0m",
            "\u001b[0;31mFileNotFoundError\u001b[0m                         Traceback (most recent call last)",
            "\u001b[0;32m<ipython-input-173-8bd9dc6be8fc>\u001b[0m in \u001b[0;36m<module>\u001b[0;34m()\u001b[0m\n\u001b[0;32m----> 1\u001b[0;31m \u001b[0mimg\u001b[0m \u001b[0;34m=\u001b[0m \u001b[0mopen_image\u001b[0m\u001b[0;34m(\u001b[0m\u001b[0;34m'25.jpg'\u001b[0m\u001b[0;34m)\u001b[0m\u001b[0;34m\u001b[0m\u001b[0;34m\u001b[0m\u001b[0m\n\u001b[0m\u001b[1;32m      2\u001b[0m \u001b[0mlearn\u001b[0m\u001b[0;34m.\u001b[0m\u001b[0mpredict\u001b[0m\u001b[0;34m(\u001b[0m\u001b[0mimg\u001b[0m\u001b[0;34m)\u001b[0m\u001b[0;34m\u001b[0m\u001b[0;34m\u001b[0m\u001b[0m\n",
            "\u001b[0;32m/usr/local/lib/python3.6/dist-packages/fastai/vision/image.py\u001b[0m in \u001b[0;36mopen_image\u001b[0;34m(fn, div, convert_mode, cls, after_open)\u001b[0m\n\u001b[1;32m    396\u001b[0m     \u001b[0;32mwith\u001b[0m \u001b[0mwarnings\u001b[0m\u001b[0;34m.\u001b[0m\u001b[0mcatch_warnings\u001b[0m\u001b[0;34m(\u001b[0m\u001b[0;34m)\u001b[0m\u001b[0;34m:\u001b[0m\u001b[0;34m\u001b[0m\u001b[0;34m\u001b[0m\u001b[0m\n\u001b[1;32m    397\u001b[0m         \u001b[0mwarnings\u001b[0m\u001b[0;34m.\u001b[0m\u001b[0msimplefilter\u001b[0m\u001b[0;34m(\u001b[0m\u001b[0;34m\"ignore\"\u001b[0m\u001b[0;34m,\u001b[0m \u001b[0mUserWarning\u001b[0m\u001b[0;34m)\u001b[0m \u001b[0;31m# EXIF warning from TiffPlugin\u001b[0m\u001b[0;34m\u001b[0m\u001b[0;34m\u001b[0m\u001b[0m\n\u001b[0;32m--> 398\u001b[0;31m         \u001b[0mx\u001b[0m \u001b[0;34m=\u001b[0m \u001b[0mPIL\u001b[0m\u001b[0;34m.\u001b[0m\u001b[0mImage\u001b[0m\u001b[0;34m.\u001b[0m\u001b[0mopen\u001b[0m\u001b[0;34m(\u001b[0m\u001b[0mfn\u001b[0m\u001b[0;34m)\u001b[0m\u001b[0;34m.\u001b[0m\u001b[0mconvert\u001b[0m\u001b[0;34m(\u001b[0m\u001b[0mconvert_mode\u001b[0m\u001b[0;34m)\u001b[0m\u001b[0;34m\u001b[0m\u001b[0;34m\u001b[0m\u001b[0m\n\u001b[0m\u001b[1;32m    399\u001b[0m     \u001b[0;32mif\u001b[0m \u001b[0mafter_open\u001b[0m\u001b[0;34m:\u001b[0m \u001b[0mx\u001b[0m \u001b[0;34m=\u001b[0m \u001b[0mafter_open\u001b[0m\u001b[0;34m(\u001b[0m\u001b[0mx\u001b[0m\u001b[0;34m)\u001b[0m\u001b[0;34m\u001b[0m\u001b[0;34m\u001b[0m\u001b[0m\n\u001b[1;32m    400\u001b[0m     \u001b[0mx\u001b[0m \u001b[0;34m=\u001b[0m \u001b[0mpil2tensor\u001b[0m\u001b[0;34m(\u001b[0m\u001b[0mx\u001b[0m\u001b[0;34m,\u001b[0m\u001b[0mnp\u001b[0m\u001b[0;34m.\u001b[0m\u001b[0mfloat32\u001b[0m\u001b[0;34m)\u001b[0m\u001b[0;34m\u001b[0m\u001b[0;34m\u001b[0m\u001b[0m\n",
            "\u001b[0;32m/usr/local/lib/python3.6/dist-packages/PIL/Image.py\u001b[0m in \u001b[0;36mopen\u001b[0;34m(fp, mode)\u001b[0m\n\u001b[1;32m   2764\u001b[0m \u001b[0;34m\u001b[0m\u001b[0m\n\u001b[1;32m   2765\u001b[0m     \u001b[0;32mif\u001b[0m \u001b[0mfilename\u001b[0m\u001b[0;34m:\u001b[0m\u001b[0;34m\u001b[0m\u001b[0;34m\u001b[0m\u001b[0m\n\u001b[0;32m-> 2766\u001b[0;31m         \u001b[0mfp\u001b[0m \u001b[0;34m=\u001b[0m \u001b[0mbuiltins\u001b[0m\u001b[0;34m.\u001b[0m\u001b[0mopen\u001b[0m\u001b[0;34m(\u001b[0m\u001b[0mfilename\u001b[0m\u001b[0;34m,\u001b[0m \u001b[0;34m\"rb\"\u001b[0m\u001b[0;34m)\u001b[0m\u001b[0;34m\u001b[0m\u001b[0;34m\u001b[0m\u001b[0m\n\u001b[0m\u001b[1;32m   2767\u001b[0m         \u001b[0mexclusive_fp\u001b[0m \u001b[0;34m=\u001b[0m \u001b[0;32mTrue\u001b[0m\u001b[0;34m\u001b[0m\u001b[0;34m\u001b[0m\u001b[0m\n\u001b[1;32m   2768\u001b[0m \u001b[0;34m\u001b[0m\u001b[0m\n",
            "\u001b[0;31mFileNotFoundError\u001b[0m: [Errno 2] No such file or directory: '25.jpg'"
          ]
        }
      ]
    },
    {
      "cell_type": "code",
      "metadata": {
        "id": "1ObEFHhO8THX",
        "colab_type": "code",
        "colab": {}
      },
      "source": [
        "arr_preds = preds.numpy()\n",
        "df_preds = pd.DataFrame(arr_preds)\n",
        "df = pd.DataFrame(filename)"
      ],
      "execution_count": 0,
      "outputs": []
    },
    {
      "cell_type": "code",
      "metadata": {
        "id": "2dF5nS6RGxjG",
        "colab_type": "code",
        "colab": {}
      },
      "source": [
        "df['no_smoke'] = df_preds[0]\n",
        "df['smoke'] = df_preds[1]\n",
        "df['label'] = labels"
      ],
      "execution_count": 0,
      "outputs": []
    },
    {
      "cell_type": "code",
      "metadata": {
        "id": "jGCvTRImOIna",
        "colab_type": "code",
        "colab": {}
      },
      "source": [
        "df.rename(columns={0: \"path\"}, inplace=True)"
      ],
      "execution_count": 0,
      "outputs": []
    },
    {
      "cell_type": "code",
      "metadata": {
        "id": "5onwkWfSIjSz",
        "colab_type": "code",
        "colab": {}
      },
      "source": [
        "df['path'] = df['path'].astype('str')\n",
        "df['filename'] = df.path.str.extract(r'diff/(.*).jpg', expand=True)\n",
        "df['filename'] = df['filename'].astype('int')"
      ],
      "execution_count": 0,
      "outputs": []
    },
    {
      "cell_type": "code",
      "metadata": {
        "id": "Iv4ZyOqIO_7d",
        "colab_type": "code",
        "colab": {}
      },
      "source": [
        "left_join = pd.merge(df, combinations, how='left', left_on='filename', right_on='new_name')\n",
        "left_join.sort_values(by='filename', ascending=1, inplace=True)"
      ],
      "execution_count": 0,
      "outputs": []
    },
    {
      "cell_type": "code",
      "metadata": {
        "id": "lPRoa4N_P3OT",
        "colab_type": "code",
        "colab": {}
      },
      "source": [
        "left_join.head(50)"
      ],
      "execution_count": 0,
      "outputs": []
    },
    {
      "cell_type": "code",
      "metadata": {
        "id": "OWL2gBTvT5ue",
        "colab_type": "code",
        "colab": {}
      },
      "source": [
        "left_join.to_csv(\"/content/gdrive/My Drive/fastai/wildfires/stage-3-unfreezed/results1.csv\")"
      ],
      "execution_count": 0,
      "outputs": []
    }
  ]
}